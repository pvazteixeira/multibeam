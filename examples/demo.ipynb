{
 "cells": [
  {
   "cell_type": "markdown",
   "metadata": {},
   "source": [
    "# `multibeam` demo\n",
    "\n",
    "This notebook provides a brief overview of the functionality implemented in the `multibeam` library."
   ]
  },
  {
   "cell_type": "markdown",
   "metadata": {},
   "source": [
    "## 0. Dependencies\n",
    "\n",
    "Let's first import all the required packages for this overview:"
   ]
  },
  {
   "cell_type": "code",
   "execution_count": null,
   "metadata": {
    "collapsed": true
   },
   "outputs": [],
   "source": [
    "import sys \n",
    "import os\n",
    "sys.path.append(os.path.abspath(\"..\")) # so we can find didson.py, multibeam.py\n",
    "\n",
    "import numpy as np\n",
    "from scipy.stats import *\n",
    "import matplotlib.pyplot as plt\n",
    "%matplotlib inline\n",
    "\n",
    "from glob import glob \n",
    "from skimage.io import imread "
   ]
  },
  {
   "cell_type": "markdown",
   "metadata": {},
   "source": [
    "## 1. Dataset"
   ]
  },
  {
   "cell_type": "markdown",
   "metadata": {},
   "source": [
    "The `data` directory of the repository contains a set of 10 test images, acquired using a SoundMetrics DIDSON, which we'll use to demonstrate the different functions in this package. Pings are typically stored as simple PNG images, where each column corresponds to a sonar beam, and each row corresponds to a range value (\"polar\" image)."
   ]
  },
  {
   "cell_type": "code",
   "execution_count": null,
   "metadata": {
    "collapsed": false
   },
   "outputs": [],
   "source": [
    "image_list = sorted(glob('../data/dataset-1/*raw.png'))\n",
    "print len(image_list)"
   ]
  },
  {
   "cell_type": "markdown",
   "metadata": {},
   "source": [
    "We use `JSON` to store the sonar configuration. For the test images, this is stored in the `didson.json` file. Note that as sonar configuration can change over time, it is usually best to save each sonar ping as a PNG image and JSON file."
   ]
  },
  {
   "cell_type": "code",
   "execution_count": null,
   "metadata": {
    "collapsed": false
   },
   "outputs": [],
   "source": [
    "from sonar import Sonar\n",
    "from didson import Didson\n",
    "\n",
    "didson = Didson();\n",
    "didson.load_config('../data/DIDSON/didson.json')\n",
    "didson.print_config()"
   ]
  },
  {
   "cell_type": "markdown",
   "metadata": {},
   "source": [
    "The configuration file can also store the sonar's beam pattern and taper function:"
   ]
  },
  {
   "cell_type": "code",
   "execution_count": null,
   "metadata": {
    "collapsed": false
   },
   "outputs": [],
   "source": [
    "plt.figure()\n",
    "plt.plot(didson.psf[0,:],label='psf')\n",
    "plt.plot(didson.taper,label='taper')\n",
    "plt.grid()\n",
    "plt.xlabel('Beam number')\n",
    "plt.ylabel('Normalized intensity')\n",
    "plt.xlim([0, 95])\n",
    "plt.legend()\n",
    "plt.show()"
   ]
  },
  {
   "cell_type": "markdown",
   "metadata": {},
   "source": [
    "## 2. Pre-processing\n",
    "\n",
    "The type of pre-processing steps supported by this package are intended to address:\n",
    " * beam-pattern effects (deconvolution, angular gain)\n",
    " * attenuation (radial gain)\n",
    " \n",
    "In addition, conversion from polar to Cartesian image is also supported via `to_cart`"
   ]
  },
  {
   "cell_type": "code",
   "execution_count": null,
   "metadata": {
    "collapsed": false,
    "scrolled": false
   },
   "outputs": [],
   "source": [
    "for idx in range(0,len(image_list)):\n",
    "    ping_raw = imread(image_list[idx], as_grey=True)\n",
    "    ping_raw_c = didson.to_cart(ping_raw,255.0)\n",
    "    \n",
    "    plt.figure(figsize=(8,4))\n",
    "    plt.subplot(1,2,1)\n",
    "    plt.imshow(ping_raw_c.transpose(),vmax=255.0,cmap='gray')\n",
    "    plt.axis('off')\n",
    "    \n",
    "    ping_deconv = didson.deconvolve(ping_raw)\n",
    "    ping_deconv_c = didson.to_cart(ping_deconv,255.0)\n",
    "    \n",
    "    plt.subplot(1,2,2)\n",
    "    plt.imshow(ping_deconv_c.transpose(),vmax=255.0,cmap='gray')\n",
    "    plt.axis('off')\n"
   ]
  },
  {
   "cell_type": "markdown",
   "metadata": {},
   "source": [
    "## 3. Mixture Model Estimation \n",
    "**TODO**"
   ]
  },
  {
   "cell_type": "code",
   "execution_count": null,
   "metadata": {
    "collapsed": true
   },
   "outputs": [],
   "source": []
  },
  {
   "cell_type": "markdown",
   "metadata": {},
   "source": [
    "## 4. Segmentation"
   ]
  },
  {
   "cell_type": "markdown",
   "metadata": {},
   "source": [
    "### 4.1 _maximum a posteriori_ (MAP)"
   ]
  },
  {
   "cell_type": "code",
   "execution_count": null,
   "metadata": {
    "collapsed": true
   },
   "outputs": [],
   "source": [
    "import utils"
   ]
  },
  {
   "cell_type": "code",
   "execution_count": null,
   "metadata": {
    "collapsed": false
   },
   "outputs": [],
   "source": [
    "idx = 4\n",
    "image = (1/255.0)*imread(image_list[idx],as_grey = True)\n",
    "# didson.loadConfig(test_config_list[idx])\n",
    "didson.noise=0.001\n",
    "image_d = didson.deconvolve(image)\n",
    "# image_d = didson.remove_taper(image_d)\n",
    "\n",
    "(p,k) = utils.getMixtureParameters(image_d)\n",
    "print p\n",
    "image_bin = utils.segment_map(image_d, p[0],p[1],p[2],p[3])"
   ]
  },
  {
   "cell_type": "code",
   "execution_count": null,
   "metadata": {
    "collapsed": false,
    "scrolled": false
   },
   "outputs": [],
   "source": [
    "plt.figure(figsize=(20,20))\n",
    "plt.subplot(3,1,1)\n",
    "ic = didson.to_cart(image,1.0)\n",
    "plt.imshow(ic.transpose(),vmin=0,vmax=1,cmap='gray')\n",
    "plt.axis('off')\n",
    "plt.subplot(3,1,2)\n",
    "icd = didson.to_cart(image_d,1.0)\n",
    "plt.imshow(icd.transpose(), vmin=0, vmax=1,cmap='gray')\n",
    "plt.axis('off')\n",
    "plt.subplot(3,1,3)\n",
    "icb = didson.to_cart(image_bin,1.0)\n",
    "plt.imshow(icb.transpose(), vmin=0, vmax=1,cmap='gray')\n",
    "plt.axis('off')\n",
    "plt.savefig(str(idx)+'_map.png')\n"
   ]
  },
  {
   "cell_type": "markdown",
   "metadata": {
    "collapsed": true
   },
   "source": [
    "### 4.2 2D Markov Random Field (MRF)\n",
    "\n",
    "**TODO**"
   ]
  },
  {
   "cell_type": "markdown",
   "metadata": {},
   "source": [
    "### 4.3 1D Markov Random Field (MRF)\n",
    "\n",
    "**TODO**"
   ]
  },
  {
   "cell_type": "code",
   "execution_count": null,
   "metadata": {
    "collapsed": true
   },
   "outputs": [],
   "source": []
  }
 ],
 "metadata": {
  "anaconda-cloud": {},
  "kernelspec": {
   "display_name": "Python [conda env:multibeam]",
   "language": "python",
   "name": "conda-env-multibeam-py"
  },
  "language_info": {
   "codemirror_mode": {
    "name": "ipython",
    "version": 2
   },
   "file_extension": ".py",
   "mimetype": "text/x-python",
   "name": "python",
   "nbconvert_exporter": "python",
   "pygments_lexer": "ipython2",
   "version": "2.7.12"
  }
 },
 "nbformat": 4,
 "nbformat_minor": 1
}
