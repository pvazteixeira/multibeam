{
 "cells": [
  {
   "cell_type": "markdown",
   "metadata": {},
   "source": [
    "# Binary hypothesis testing\n",
    "\n",
    "This notebook builds upon the mixture model estimation technique to implement different binary classifiers"
   ]
  },
  {
   "cell_type": "code",
   "execution_count": 2,
   "metadata": {
    "collapsed": true
   },
   "outputs": [],
   "source": [
    "import sys \n",
    "import os\n",
    "sys.path.append(os.path.abspath(\"..\")) # so we can find didson.py, multibeam.py\n",
    "\n",
    "from glob import glob           # file manipulation\n",
    "import numpy as np\n",
    "from skimage.io import imread,imsave   # image processing\n",
    "from scipy.optimize import curve_fit\n",
    "from scipy.stats import *       # stats utils\n",
    "\n",
    "# from matplotlib import rcParams \n",
    "# rcParams['font.family'] = 'serif'\n",
    "# rcParams['font.sans-serif'] = ['Latin Modern Math']\n",
    "# print rcParams['font.size']\n",
    "\n",
    "import matplotlib.pyplot as plt\n",
    "%matplotlib inline"
   ]
  },
  {
   "cell_type": "code",
   "execution_count": 2,
   "metadata": {
    "collapsed": false
   },
   "outputs": [
    {
     "name": "stdout",
     "output_type": "stream",
     "text": [
      "Pings are 96 beams by 512 bins\n",
      "Field of view: 0.502654824574\n",
      "Range: 2.25  -  11.25 m.\n",
      "Noise: 0.002\n",
      "RX gain: 20.0 dB\n"
     ]
    }
   ],
   "source": [
    "from sonar import Sonar\n",
    "from didson import Didson\n",
    "\n",
    "didson = Didson();\n",
    "didson.load_config('../data/DIDSON/didson.json')\n",
    "print 'Pings are',didson.num_beams,'beams by',didson.num_bins, 'bins'\n",
    "print 'Field of view:', didson.fov\n",
    "print 'Range:', didson.min_range, ' - ', didson.max_range, 'm.'\n",
    "print 'Noise:', didson.noise\n",
    "print 'RX gain:', didson.rx_gain,'dB'\n",
    "\n",
    "import utils"
   ]
  },
  {
   "cell_type": "code",
   "execution_count": 3,
   "metadata": {
    "collapsed": false
   },
   "outputs": [
    {
     "name": "stdout",
     "output_type": "stream",
     "text": [
      "10 image files, 10 config files\n",
      "../data/test/1468966347175925.png\n",
      "../data/test/1468966347175925.json\n",
      " \n",
      "../data/test/1468966376377511.png\n",
      "../data/test/1468966376377511.json\n",
      " \n",
      "../data/test/1468966376476216.png\n",
      "../data/test/1468966376476216.json\n",
      " \n",
      "../data/test/1468966851909797.png\n",
      "../data/test/1468966851909797.json\n",
      " \n",
      "../data/test/1468969086135548.png\n",
      "../data/test/1468969086135548.json\n",
      " \n",
      "../data/test/1468970074505798.png\n",
      "../data/test/1468970074505798.json\n",
      " \n",
      "../data/test/1468970271148135.png\n",
      "../data/test/1468970271148135.json\n",
      " \n",
      "../data/test/1468970485675274.png\n",
      "../data/test/1468970485675274.json\n",
      " \n",
      "../data/test/1468970745714629.png\n",
      "../data/test/1468970745714629.json\n",
      " \n",
      "../data/test/1468970832506128.png\n",
      "../data/test/1468970832506128.json\n",
      " \n"
     ]
    }
   ],
   "source": [
    "test_image_list = sorted(glob('../data/test/*.png')) # window set to 2.25m to 11.25m\n",
    "test_config_list = sorted(glob('../data/test/*.json'))\n",
    "print len(test_image_list),'image files,', len(test_config_list),'config files'\n",
    "\n",
    "for i in range(0,len(test_image_list)):\n",
    "    print(test_image_list[i])\n",
    "    print(test_config_list[i])\n",
    "    print(' ')"
   ]
  },
  {
   "cell_type": "markdown",
   "metadata": {},
   "source": [
    "## ROC curves"
   ]
  },
  {
   "cell_type": "code",
   "execution_count": 1,
   "metadata": {
    "collapsed": false,
    "scrolled": false
   },
   "outputs": [
    {
     "ename": "NameError",
     "evalue": "name 'plt' is not defined",
     "output_type": "error",
     "traceback": [
      "\u001b[0;31m------------------------------------------\u001b[0m",
      "\u001b[0;31mNameError\u001b[0mTraceback (most recent call last)",
      "\u001b[0;32m<ipython-input-1-02a279ab98bb>\u001b[0m in \u001b[0;36m<module>\u001b[0;34m()\u001b[0m\n\u001b[1;32m      1\u001b[0m \u001b[0;31m# ROC curve for intensity threshold decision rule\u001b[0m\u001b[0;34m\u001b[0m\u001b[0;34m\u001b[0m\u001b[0m\n\u001b[0;32m----> 2\u001b[0;31m \u001b[0mplt\u001b[0m\u001b[0;34m.\u001b[0m\u001b[0mfigure\u001b[0m\u001b[0;34m(\u001b[0m\u001b[0mfigsize\u001b[0m\u001b[0;34m=\u001b[0m\u001b[0;34m(\u001b[0m\u001b[0;36m3.45\u001b[0m\u001b[0;34m,\u001b[0m\u001b[0;36m3.45\u001b[0m\u001b[0;34m)\u001b[0m\u001b[0;34m)\u001b[0m\u001b[0;34m\u001b[0m\u001b[0m\n\u001b[0m\u001b[1;32m      3\u001b[0m \u001b[0;31m# indices = (0,1,5,6,7)\u001b[0m\u001b[0;34m\u001b[0m\u001b[0;34m\u001b[0m\u001b[0m\n\u001b[1;32m      4\u001b[0m \u001b[0mindices\u001b[0m \u001b[0;34m=\u001b[0m \u001b[0;34m(\u001b[0m\u001b[0;36m0\u001b[0m\u001b[0;34m,\u001b[0m\u001b[0;36m1\u001b[0m\u001b[0;34m,\u001b[0m\u001b[0;36m2\u001b[0m\u001b[0;34m,\u001b[0m\u001b[0;36m3\u001b[0m\u001b[0;34m,\u001b[0m\u001b[0;36m4\u001b[0m\u001b[0;34m,\u001b[0m\u001b[0;36m5\u001b[0m\u001b[0;34m,\u001b[0m\u001b[0;36m6\u001b[0m\u001b[0;34m,\u001b[0m\u001b[0;36m7\u001b[0m\u001b[0;34m,\u001b[0m\u001b[0;36m8\u001b[0m\u001b[0;34m,\u001b[0m\u001b[0;36m9\u001b[0m\u001b[0;34m)\u001b[0m\u001b[0;34m\u001b[0m\u001b[0m\n\u001b[1;32m      5\u001b[0m \u001b[0;31m# labels  = ('fish','fish','fish','fish','hull','hull','rudder','propeller','hull','hull')\u001b[0m\u001b[0;34m\u001b[0m\u001b[0;34m\u001b[0m\u001b[0m\n",
      "\u001b[0;31mNameError\u001b[0m: name 'plt' is not defined"
     ]
    }
   ],
   "source": [
    "# ROC curve for intensity threshold decision rule\n",
    "plt.figure(figsize=(3.45,3.45))\n",
    "# indices = (0,1,5,6,7)\n",
    "indices = (0,1,2,3,4,5,6,7,8,9)\n",
    "# labels  = ('fish','fish','fish','fish','hull','hull','rudder','propeller','hull','hull')\n",
    "labels  = ('fish (0,1,2,3)','_nolegend_','_nolegend_','_nolegend_','hull (4,5,8,9)','_nolegend_','rudder (6)','propeller (7)','_nolegend_','_nolegend_')\n",
    "\n",
    "colors  = ('#1f78b4','#1f78b4','#1f78b4','#1f78b4','#b2df8a','#b2df8a','#33a02c','#fb9a99','#b2df8a','#b2df8a')\n",
    "x = np.linspace(0,1.0,256)\n",
    "\n",
    "np.set_printoptions(precision=4)\n",
    "\n",
    "for i in indices:\n",
    "    idx = i\n",
    "    image = (1/255.0)*imread(test_image_list[idx],as_grey = True)\n",
    "    didson.load_config(test_config_list[idx])\n",
    "    didson.noise = 0.001\n",
    "    image_d = didson.deconvolve(image)\n",
    "    image_d = didson.removeTaper(image_d)\n",
    "    \n",
    "    (p,k) = utils.getMixtureParameters(image_d)\n",
    "    pi1 = p[0]\n",
    "    pi2 = p[1]\n",
    "    s1  = p[2]\n",
    "    s2  = p[3]\n",
    "    \n",
    "    p_bg = pi1/(1-pi2)\n",
    "    pmf_bg = utils.background_pmf(x, p_bg, s1 )\n",
    "    pmf_o  = utils.object_pmf(x, s2)\n",
    "    p_fa = 1 - np.cumsum(pmf_bg)\n",
    "    p_d  = 1 - np.cumsum(pmf_o)\n",
    "    \n",
    "    print ''\n",
    "    kfa = np.argwhere(p_fa<0.00001)[0]\n",
    "    print idx,'t=',kfa[0],', epsilon=',kfa[0]/255.0, ', p_fa=',p_fa[kfa],', p_d=',p_d[kfa]\n",
    "    print idx, 't=0.22',  ', p_fa=',p_fa[56],', p_d=',p_d[56]\n",
    "\n",
    "#     plt.plot(p_fa,p_d,'-',color='#1f78b4',alpha=1.0,linewidth=2.0)\n",
    "    plt.plot(p_fa,p_d,'-',alpha=0.8,linewidth=2.0,color=colors[i],label=labels[i])\n",
    "\n",
    "    \n",
    "eq = np.logspace(-6,0,100)\n",
    "plt.plot(eq,eq,'--',color='k')\n",
    "\n",
    "plt.grid()\n",
    "plt.xlabel('$p_{FA}$')\n",
    "plt.ylabel('$p_{D}$')\n",
    "plt.axis('equal')\n",
    "plt.xlim([1e-6,1])\n",
    "plt.ylim([1e-6,1])\n",
    "plt.xscale('log')\n",
    "# plt.yscale('log')\n",
    "plt.legend(loc=0,fontsize=6)\n",
    "rcParams['font.size'] = 8\n",
    "\n",
    "plt.savefig('roc_5.pdf',dpi=600,bbox_inches='tight',transparent=True,pad_inches=0.02) # no transparency on eps!"
   ]
  },
  {
   "cell_type": "code",
   "execution_count": null,
   "metadata": {
    "collapsed": false
   },
   "outputs": [],
   "source": [
    "plt.figure(figsize=(20,20))\n",
    "for idx in range(0,10):\n",
    "    image = (1/255.0)*imread(test_image_list[idx],as_grey = True)\n",
    "    didson.loadConfig(test_config_list[idx])\n",
    "    didson.noise=0.02\n",
    "    image_d = didson.deconvolve(image)\n",
    "    image_d = didson.removeTaper(image_d)\n",
    "    image_b = np.copy(image_d)\n",
    "    epsilon = 56.0/255.0\n",
    "#     epsilon = 0.2\n",
    "    print epsilon\n",
    "    image_b[image_b<epsilon] = 0.0\n",
    "    image_b[image_b>epsilon] = 1.0\n",
    "\n",
    "    plt.subplot(10,1,idx+1)\n",
    "    plt.imshow(image_b.transpose(),cmap='gray')\n",
    "    plt.axis('off')\n",
    "    \n",
    "    img_out = (255*(1-image_b.transpose()))\n",
    "    imsave('ft2_'+str(idx)+'.png',img_out.astype(np.uint8))\n",
    "    \n",
    "    "
   ]
  },
  {
   "cell_type": "code",
   "execution_count": null,
   "metadata": {
    "collapsed": false
   },
   "outputs": [],
   "source": [
    "print len(p_fa)\n",
    "np.sum(pmf_bg)\n"
   ]
  },
  {
   "cell_type": "code",
   "execution_count": null,
   "metadata": {
    "collapsed": false
   },
   "outputs": [],
   "source": [
    "isinstance(x,)\n"
   ]
  },
  {
   "cell_type": "markdown",
   "metadata": {},
   "source": [
    "## Threshold decision rule"
   ]
  },
  {
   "cell_type": "markdown",
   "metadata": {},
   "source": [
    "## MAP (_maximum a posteriori_) decision rule"
   ]
  },
  {
   "cell_type": "code",
   "execution_count": null,
   "metadata": {
    "collapsed": false
   },
   "outputs": [],
   "source": [
    "# likelihood ratio (used in the MAP decision rule)\n",
    "plt.figure(figsize=(3.45,3.45))\n",
    "plt.plot(x,pmf_o/pmf_bg)\n",
    "plt.grid()\n",
    "plt.xlabel('$y$')\n",
    "plt.ylabel('$\\Lambda(y)$')\n",
    "plt.yscale('log')\n",
    "plt.xlim([0,1])"
   ]
  },
  {
   "cell_type": "code",
   "execution_count": null,
   "metadata": {
    "collapsed": false
   },
   "outputs": [],
   "source": [
    "plt.figure(figsize=(3.45,3.45))\n",
    "plt.plot(x,p_fa)\n",
    "plt.plot(x,p_d)\n",
    "plt.xlim([0,0.2])\n",
    "plt.grid()\n",
    "plt.legend(('$p_{FA}$','$p_{D}$'))\n",
    "\n",
    "print p_fa[25:30]\n",
    "print p_d[25:30]\n",
    "print x[28]"
   ]
  },
  {
   "cell_type": "markdown",
   "metadata": {},
   "source": [
    "## Neyman-Pearson decision rule\n"
   ]
  }
 ],
 "metadata": {
  "anaconda-cloud": {},
  "kernelspec": {
   "display_name": "Python [conda env:multibeam]",
   "language": "python",
   "name": "conda-env-multibeam-py"
  },
  "language_info": {
   "codemirror_mode": {
    "name": "ipython",
    "version": 2
   },
   "file_extension": ".py",
   "mimetype": "text/x-python",
   "name": "python",
   "nbconvert_exporter": "python",
   "pygments_lexer": "ipython2",
   "version": "2.7.12"
  }
 },
 "nbformat": 4,
 "nbformat_minor": 1
}
